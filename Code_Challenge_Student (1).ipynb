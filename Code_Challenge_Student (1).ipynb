{
 "cells": [
  {
   "cell_type": "markdown",
   "metadata": {
    "id": "Ab6tQ8XLwqzG"
   },
   "source": [
    "#Data Bootcamp Selection Challenge\n",
    "#####In this challenge you will calculate various KPIs using a car based dataset, each question will have a single correct answer that will be evaluated through automated unit testing. Use the dictionary provided below to fill in your answers, each question will state the format required for the answer and examples are provided so you know how properly fill the answer dictionary.\n",
    "#####**Use the dataset \"as is\" and do not perform any data cleaning or modify it in any way, doing so could make you answer all your questions incorrectly. Do not modify the structure of the answer dictionary.**\n",
    "\n",
    "#####When you finish this challenge please upload both your notebook and your answer dictionary in pickle format to a public github repository submit their URL to the [google form](https://forms.gle/jqufStbvLd99bF539) that was provided to you.\n",
    "\n",
    "##### Some unit tests are provided at the end of this notebook to help you verify your answers are in the correct format, however they will not test everything.\n",
    "\n",
    "\n",
    "\n"
   ]
  },
  {
   "cell_type": "code",
   "execution_count": 1,
   "metadata": {
    "id": "1kj3oTmRvWXi"
   },
   "outputs": [],
   "source": [
    "#Use this dictionary to store your answers in the correct format in the cells below , do not modify the keys\n",
    "answer_dict =  {\"Q1\" : 392.742,\n",
    "                \"Q2\" : [['Mercedes-Benz', 333],['BMW', 284],['Chevrolet', 253],['Ford', 185],['GMC', 163]],\n",
    "                \"Q3\" : ['Regular Gas or Electricity','Regular Gas and Electricity','Regular','Premium or E85','Premium and Electricity','Premium Gas or Electricity','Premium','Midgrade','Gasoline or propane','Gasoline or natural gas','Gasoline or E85','Diesel','CNG'],\n",
    "                \"Q4\" : [['Cab/Chassis 2WD', 1993, 32.961, 4.113376218494312],['Cab/Chassis 2WD', 1992, 32.961, 4.113376218494312],['Cab/Chassis 2WD', 1991, 32.961, 4.113376218494312],['Cab/Chassis 2WD', 1990, 32.961, 4.113376218494312],['Cab/Chassis 2WD', 1989, 32.961, 4.113376218494312],['Camry CNG', 1999, 0.0808695652173913, 3.933613148435805],['Camry CNG', 2001, 0.0845454545454545, 3.932713521763228],['Camry CNG', 2000, 0.0845454545454545, 3.932713521763228],['Cab/Chassis 2WD', 1993, 29.96454545454546, 3.3800324772464214]],\n",
    "                \"Q5\" : [[1986.0, 26.0, nan],[1987.0, 26.0, 0.0],[1988.0, 25.0, -1.0],[1989.0, 25.0, 0.0],[1999.0, 24.0, -1.0],[2000.0, 24.0, 0.0],[2001.0, 24.0, 0.0],[2002.0, 24.0, 0.0],[2003.0, 24.0, 0.0],[2004.0, 24.0, 0.0],[2005.0, 24.0, 0.0],[2006.0, 24.0, 0.0],[2010.0, 25.0, 1.0],[2011.0, 26.0, 1.0],[2012.0, 26.0, 0.0],[2013.0, 26.0, 0.0],[2015.0, 30.0, 4.0],[2016.0, 30.0, 0.0],[2017.0, 29.0, -1.0]],\n",
    "                \"Q6\" : None,\n",
    "                \"Q7\" : None}"
   ]
  },
  {
   "cell_type": "markdown",
   "metadata": {
    "id": "Z0pZ4Vlx3VZy"
   },
   "source": [
    "##Reading the dataset\n",
    "#####An example is provided to read the dataset using [pandas](https://pandas.pydata.org/), while we reccommend using pandas you may use any python library to solve this challenge."
   ]
  },
  {
   "cell_type": "code",
   "execution_count": 2,
   "metadata": {
    "id": "7U3UNKSj3oxa"
   },
   "outputs": [],
   "source": [
    "import pandas as pd\n",
    "import numpy as np\n",
    "url = \"https://storage.googleapis.com/deb-evaluation-materials/vehicles.csv\"\n",
    "df = pd.read_csv(url)"
   ]
  },
  {
   "cell_type": "code",
   "execution_count": 3,
   "metadata": {
    "colab": {
     "base_uri": "https://localhost:8080/",
     "height": 354
    },
    "id": "J10uW58Qv2B_",
    "outputId": "53dce50a-08f4-44e3-aa89-909799f34595"
   },
   "outputs": [
    {
     "data": {
      "text/html": [
       "<div>\n",
       "<style scoped>\n",
       "    .dataframe tbody tr th:only-of-type {\n",
       "        vertical-align: middle;\n",
       "    }\n",
       "\n",
       "    .dataframe tbody tr th {\n",
       "        vertical-align: top;\n",
       "    }\n",
       "\n",
       "    .dataframe thead th {\n",
       "        text-align: right;\n",
       "    }\n",
       "</style>\n",
       "<table border=\"1\" class=\"dataframe\">\n",
       "  <thead>\n",
       "    <tr style=\"text-align: right;\">\n",
       "      <th></th>\n",
       "      <th>Make</th>\n",
       "      <th>Model</th>\n",
       "      <th>Year</th>\n",
       "      <th>Engine Displacement</th>\n",
       "      <th>Cylinders</th>\n",
       "      <th>Transmission</th>\n",
       "      <th>Drivetrain</th>\n",
       "      <th>Vehicle Class</th>\n",
       "      <th>Fuel Type</th>\n",
       "      <th>Fuel Barrels/Year</th>\n",
       "      <th>City MPG</th>\n",
       "      <th>Highway MPG</th>\n",
       "      <th>Combined MPG</th>\n",
       "      <th>CO2 Emission Grams/Mile</th>\n",
       "      <th>Fuel Cost/Year</th>\n",
       "    </tr>\n",
       "  </thead>\n",
       "  <tbody>\n",
       "    <tr>\n",
       "      <th>0</th>\n",
       "      <td>AM General</td>\n",
       "      <td>DJ Po Vehicle 2WD</td>\n",
       "      <td>1984</td>\n",
       "      <td>2.5</td>\n",
       "      <td>4.0</td>\n",
       "      <td>Automatic 3-spd</td>\n",
       "      <td>2-Wheel Drive</td>\n",
       "      <td>Special Purpose Vehicle 2WD</td>\n",
       "      <td>Regular</td>\n",
       "      <td>19.388824</td>\n",
       "      <td>18</td>\n",
       "      <td>17</td>\n",
       "      <td>17</td>\n",
       "      <td>522.764706</td>\n",
       "      <td>1950</td>\n",
       "    </tr>\n",
       "    <tr>\n",
       "      <th>1</th>\n",
       "      <td>AM General</td>\n",
       "      <td>FJ8c Post Office</td>\n",
       "      <td>1984</td>\n",
       "      <td>4.2</td>\n",
       "      <td>6.0</td>\n",
       "      <td>Automatic 3-spd</td>\n",
       "      <td>2-Wheel Drive</td>\n",
       "      <td>Special Purpose Vehicle 2WD</td>\n",
       "      <td>Regular</td>\n",
       "      <td>25.354615</td>\n",
       "      <td>13</td>\n",
       "      <td>13</td>\n",
       "      <td>13</td>\n",
       "      <td>683.615385</td>\n",
       "      <td>2550</td>\n",
       "    </tr>\n",
       "    <tr>\n",
       "      <th>2</th>\n",
       "      <td>AM General</td>\n",
       "      <td>Post Office DJ5 2WD</td>\n",
       "      <td>1985</td>\n",
       "      <td>2.5</td>\n",
       "      <td>4.0</td>\n",
       "      <td>Automatic 3-spd</td>\n",
       "      <td>Rear-Wheel Drive</td>\n",
       "      <td>Special Purpose Vehicle 2WD</td>\n",
       "      <td>Regular</td>\n",
       "      <td>20.600625</td>\n",
       "      <td>16</td>\n",
       "      <td>17</td>\n",
       "      <td>16</td>\n",
       "      <td>555.437500</td>\n",
       "      <td>2100</td>\n",
       "    </tr>\n",
       "    <tr>\n",
       "      <th>3</th>\n",
       "      <td>AM General</td>\n",
       "      <td>Post Office DJ8 2WD</td>\n",
       "      <td>1985</td>\n",
       "      <td>4.2</td>\n",
       "      <td>6.0</td>\n",
       "      <td>Automatic 3-spd</td>\n",
       "      <td>Rear-Wheel Drive</td>\n",
       "      <td>Special Purpose Vehicle 2WD</td>\n",
       "      <td>Regular</td>\n",
       "      <td>25.354615</td>\n",
       "      <td>13</td>\n",
       "      <td>13</td>\n",
       "      <td>13</td>\n",
       "      <td>683.615385</td>\n",
       "      <td>2550</td>\n",
       "    </tr>\n",
       "    <tr>\n",
       "      <th>4</th>\n",
       "      <td>ASC Incorporated</td>\n",
       "      <td>GNX</td>\n",
       "      <td>1987</td>\n",
       "      <td>3.8</td>\n",
       "      <td>6.0</td>\n",
       "      <td>Automatic 4-spd</td>\n",
       "      <td>Rear-Wheel Drive</td>\n",
       "      <td>Midsize Cars</td>\n",
       "      <td>Premium</td>\n",
       "      <td>20.600625</td>\n",
       "      <td>14</td>\n",
       "      <td>21</td>\n",
       "      <td>16</td>\n",
       "      <td>555.437500</td>\n",
       "      <td>2550</td>\n",
       "    </tr>\n",
       "  </tbody>\n",
       "</table>\n",
       "</div>"
      ],
      "text/plain": [
       "               Make                Model  Year  Engine Displacement  \\\n",
       "0        AM General    DJ Po Vehicle 2WD  1984                  2.5   \n",
       "1        AM General     FJ8c Post Office  1984                  4.2   \n",
       "2        AM General  Post Office DJ5 2WD  1985                  2.5   \n",
       "3        AM General  Post Office DJ8 2WD  1985                  4.2   \n",
       "4  ASC Incorporated                  GNX  1987                  3.8   \n",
       "\n",
       "   Cylinders     Transmission        Drivetrain                Vehicle Class  \\\n",
       "0        4.0  Automatic 3-spd     2-Wheel Drive  Special Purpose Vehicle 2WD   \n",
       "1        6.0  Automatic 3-spd     2-Wheel Drive  Special Purpose Vehicle 2WD   \n",
       "2        4.0  Automatic 3-spd  Rear-Wheel Drive  Special Purpose Vehicle 2WD   \n",
       "3        6.0  Automatic 3-spd  Rear-Wheel Drive  Special Purpose Vehicle 2WD   \n",
       "4        6.0  Automatic 4-spd  Rear-Wheel Drive                 Midsize Cars   \n",
       "\n",
       "  Fuel Type  Fuel Barrels/Year  City MPG  Highway MPG  Combined MPG  \\\n",
       "0   Regular          19.388824        18           17            17   \n",
       "1   Regular          25.354615        13           13            13   \n",
       "2   Regular          20.600625        16           17            16   \n",
       "3   Regular          25.354615        13           13            13   \n",
       "4   Premium          20.600625        14           21            16   \n",
       "\n",
       "   CO2 Emission Grams/Mile  Fuel Cost/Year  \n",
       "0               522.764706            1950  \n",
       "1               683.615385            2550  \n",
       "2               555.437500            2100  \n",
       "3               683.615385            2550  \n",
       "4               555.437500            2550  "
      ]
     },
     "execution_count": 3,
     "metadata": {},
     "output_type": "execute_result"
    }
   ],
   "source": [
    "df.head()"
   ]
  },
  {
   "cell_type": "code",
   "execution_count": 4,
   "metadata": {
    "colab": {
     "base_uri": "https://localhost:8080/"
    },
    "id": "LutcGEx8v4GY",
    "outputId": "503bacc9-343b-4725-995c-be0aaaaedd66"
   },
   "outputs": [
    {
     "name": "stdout",
     "output_type": "stream",
     "text": [
      "<class 'pandas.core.frame.DataFrame'>\n",
      "RangeIndex: 35952 entries, 0 to 35951\n",
      "Data columns (total 15 columns):\n",
      " #   Column                   Non-Null Count  Dtype  \n",
      "---  ------                   --------------  -----  \n",
      " 0   Make                     35952 non-null  object \n",
      " 1   Model                    35952 non-null  object \n",
      " 2   Year                     35952 non-null  int64  \n",
      " 3   Engine Displacement      35952 non-null  float64\n",
      " 4   Cylinders                35952 non-null  float64\n",
      " 5   Transmission             35952 non-null  object \n",
      " 6   Drivetrain               35952 non-null  object \n",
      " 7   Vehicle Class            35952 non-null  object \n",
      " 8   Fuel Type                35952 non-null  object \n",
      " 9   Fuel Barrels/Year        35952 non-null  float64\n",
      " 10  City MPG                 35952 non-null  int64  \n",
      " 11  Highway MPG              35952 non-null  int64  \n",
      " 12  Combined MPG             35952 non-null  int64  \n",
      " 13  CO2 Emission Grams/Mile  35952 non-null  float64\n",
      " 14  Fuel Cost/Year           35952 non-null  int64  \n",
      "dtypes: float64(4), int64(5), object(6)\n",
      "memory usage: 4.1+ MB\n"
     ]
    }
   ],
   "source": [
    "df.info()"
   ]
  },
  {
   "cell_type": "markdown",
   "metadata": {
    "id": "kLRp8K_wnEJG"
   },
   "source": [
    "##Q1. What is the average CO2 emmission per gram/mile of all Volkswagen cars?\n",
    "\n",
    "##### Format: A floating number\n",
    "##### Example answer:\n",
    " `11.547`"
   ]
  },
  {
   "cell_type": "code",
   "execution_count": 5,
   "metadata": {
    "id": "jBGXf7RRnEoV"
   },
   "outputs": [
    {
     "data": {
      "text/plain": [
       "392.742"
      ]
     },
     "execution_count": 5,
     "metadata": {},
     "output_type": "execute_result"
    }
   ],
   "source": [
    "########## Q1\n",
    "#Your code here\n",
    "volks = df[df['Make'] == 'Volkswagen']\n",
    "volks_CO2_mean = volks['CO2 Emission Grams/Mile'].mean()\n",
    "round(volks_CO2_mean,3)\n",
    "#Example answer:\n",
    "#answer_dict[\"Q1\"] =  392.742"
   ]
  },
  {
   "cell_type": "markdown",
   "metadata": {
    "id": "SPNq7yn74kjd"
   },
   "source": [
    "##Q2. Calculate the top 5 brands(Make) with the most unique models, order your answer in descending order with respect to the number of unique models.\n",
    "##### **NOTE:** Consider only the name of the models and their brand, that is use only the Make and Model columns\n",
    "##### Format: A 5X2 list with each row being the name of the brand followed by the unique number of models, in descending order.\n",
    "#####Hint: You can use the pandas [df.values.tolist()](https://pandas.pydata.org/docs/reference/api/pandas.Series.tolist.html) function to format your answer.\n",
    "\n",
    "##### Example answer:\n",
    "`[[\"Volkswagen\", 1000], [\"Toyota\", 900], [\"Honda\", 800], [\"Subaru\", 700], [\"Ford\", 600]]`"
   ]
  },
  {
   "cell_type": "code",
   "execution_count": 30,
   "metadata": {
    "id": "StipyFue4Dx-"
   },
   "outputs": [
    {
     "data": {
      "text/plain": [
       "[['Mercedes-Benz', 333],\n",
       " ['BMW', 284],\n",
       " ['Chevrolet', 253],\n",
       " ['Ford', 185],\n",
       " ['GMC', 163]]"
      ]
     },
     "execution_count": 30,
     "metadata": {},
     "output_type": "execute_result"
    }
   ],
   "source": [
    "########## Q2\n",
    "#Your code here\n",
    "car_dict = {}\n",
    "car_brands = df['Make'].unique()\n",
    "for brand in car_brands:\n",
    "    brand_models = df[df['Make'] == brand]['Model'].unique()\n",
    "    if brand not in car_dict:\n",
    "        car_dict[brand] = len(brand_models)\n",
    "        \n",
    "top5_sorted_car_dict = sorted(car_dict.items(),key=lambda x:x[1],reverse=True)[:5]\n",
    "top5_sorted_car_dict\n",
    "        \n",
    "resultList = [list(item) for item in top5_sorted_car_dict]\n",
    "resultList\n",
    "\n",
    "    \n",
    "#Example answer:\n",
    "#answer_dict[\"Q2\"] =  [[\"Volkswagen\", 1000], [\"Toyota\", 900], [\"Honda\", 800], [\"Subaru\", 700], [\"Ford\", 600]]"
   ]
  },
  {
   "cell_type": "markdown",
   "metadata": {
    "id": "EGxv7N15AiLu"
   },
   "source": [
    "##Q3. What are all the different types of fuels in the dataset sorted alphabetically?\n",
    "##### Format: A list of strings sorted alphabetically.\n",
    "##### Example Answer:\n",
    "`['Regular',\n",
    " 'Premium']`"
   ]
  },
  {
   "cell_type": "code",
   "execution_count": 34,
   "metadata": {
    "id": "otyDsWpsAjde"
   },
   "outputs": [
    {
     "data": {
      "text/plain": [
       "['Regular Gas or Electricity',\n",
       " 'Regular Gas and Electricity',\n",
       " 'Regular',\n",
       " 'Premium or E85',\n",
       " 'Premium and Electricity',\n",
       " 'Premium Gas or Electricity',\n",
       " 'Premium',\n",
       " 'Midgrade',\n",
       " 'Gasoline or propane',\n",
       " 'Gasoline or natural gas',\n",
       " 'Gasoline or E85',\n",
       " 'Diesel',\n",
       " 'CNG']"
      ]
     },
     "execution_count": 34,
     "metadata": {},
     "output_type": "execute_result"
    }
   ],
   "source": [
    "########## Q3\n",
    "#Your code here\n",
    "fuel_types = df['Fuel Type'].unique()\n",
    "sorted_fuel_types = sorted(fuel_types,reverse=True)\n",
    "sorted_fuel_types\n",
    "\n",
    "#Example answer:\n",
    "#answer_dict[\"Q3\"] =  ['Regular', 'Premium']"
   ]
  },
  {
   "cell_type": "markdown",
   "metadata": {
    "id": "ijpZht03tV5W"
   },
   "source": [
    "##Q4. Show the 9 Toyota cars with the most extreme Fuel Barrels/Year in abosolute terms within all Toyota cars. Show the car Model, Year and their Fuel Barrels/Year in standard deviation units([Z-score](https://fredclavel.org/2019/03/18/basics-standardization-and-the-z-score/)) **sorted** in descending order by their Fuel Barrels/Year in absolute terms first and then by year in descending order **BUT** without modifying the negative values (see example).\n",
    "\n",
    "##### Format: A 9X3 list with each row containing the Model, Year and Fuel Barrels/Year in standard deviations units\n",
    "\n",
    "##### Example answer:\n",
    "```\n",
    "[['DJ Po Vehicle 2WD', 2004, -6.407431084026927],\n",
    " ['FJ8c Post Office', 2003, -6.407431084026927],\n",
    " ['Post Office DJ5 2WD', 2005, -6.391684618442447],\n",
    " ['Sierra 2500 Hd 2WD', 2002, -6.391684618442447],\n",
    " ['Camry CNG', 2012, 2.677633075759575],\n",
    " ['Sierra 1500 4WD', 2005, 2.677633075759575],\n",
    " ['Sierra 1500 4WD', 2001, 2.677633075759575],\n",
    " ['V15 Suburban 4WD', 1988, 2.677633075759575],\n",
    " ['V15 Suburban 4WD', 1987, 2.677633075759575]]\n",
    "```\n",
    "#####Note that while the list is sorted by the Fuel Barrels/Year in absolute terms and in standard deviation units, the values are not modified. If the values are the same the rows are sorted by the year.\n"
   ]
  },
  {
   "cell_type": "code",
   "execution_count": 67,
   "metadata": {
    "id": "de_GgmrFVcvO"
   },
   "outputs": [
    {
     "name": "stderr",
     "output_type": "stream",
     "text": [
      "<ipython-input-67-c4da612ba358>:8: SettingWithCopyWarning: \n",
      "A value is trying to be set on a copy of a slice from a DataFrame.\n",
      "Try using .loc[row_indexer,col_indexer] = value instead\n",
      "\n",
      "See the caveats in the documentation: https://pandas.pydata.org/pandas-docs/stable/user_guide/indexing.html#returning-a-view-versus-a-copy\n",
      "  selected_cols['Fuel zscores'] = np.abs(stats.zscore(toyota['Fuel Barrels/Year']))\n"
     ]
    },
    {
     "data": {
      "text/plain": [
       "[['Cab/Chassis 2WD', 1993, 32.961, 4.113376218494312],\n",
       " ['Cab/Chassis 2WD', 1992, 32.961, 4.113376218494312],\n",
       " ['Cab/Chassis 2WD', 1991, 32.961, 4.113376218494312],\n",
       " ['Cab/Chassis 2WD', 1990, 32.961, 4.113376218494312],\n",
       " ['Cab/Chassis 2WD', 1989, 32.961, 4.113376218494312],\n",
       " ['Camry CNG', 1999, 0.0808695652173913, 3.933613148435805],\n",
       " ['Camry CNG', 2001, 0.0845454545454545, 3.932713521763228],\n",
       " ['Camry CNG', 2000, 0.0845454545454545, 3.932713521763228],\n",
       " ['Cab/Chassis 2WD', 1993, 29.96454545454546, 3.3800324772464214]]"
      ]
     },
     "execution_count": 67,
     "metadata": {},
     "output_type": "execute_result"
    }
   ],
   "source": [
    "########## Q4\n",
    "#Your code here\n",
    "import scipy.stats as stats\n",
    "\n",
    "toyota = df[df['Make'] == 'Toyota']\n",
    "#toyota\n",
    "selected_cols = toyota[['Model','Year','Fuel Barrels/Year']]\n",
    "selected_cols['Fuel zscores'] = np.abs(stats.zscore(toyota['Fuel Barrels/Year']))\n",
    "result = selected_cols.sort_values(['Fuel zscores','Year'],ascending=False)[:9]\n",
    "result_list = result.values.tolist()\n",
    "result_list\n",
    "\n",
    "\n"
   ]
  },
  {
   "cell_type": "markdown",
   "metadata": {
    "id": "7eCpEljJnXzt"
   },
   "source": [
    "##Q5. Calculate the changes in Combined MPG with their previous model of all Golf cars with Manual 5-spd transmission and Regular Fuel Type. Show the Year, the Combined MPG and the calculated difference of MPG in a list sorted by Year in ascending order.\n",
    "\n",
    "##### Format: A 19X3 list, with the Year and Combined MPG being of type integer **and only the calculated difference is of type float**\n",
    "##### **Note: The value for the first model should be 0.** It does not matter that there are gaps in the years, calculate with respect the previous model.\n",
    "\n",
    "#####Example answer:\n",
    "\n",
    "\n",
    "\n",
    "```\n",
    "[[1986, 25, 0.0],\n",
    " [1987, 25, 0.0],\n",
    " [1988, 25, 0.0],\n",
    " [1989, 25, 0.0],\n",
    " [1990, 23, -2.0],\n",
    " [1991, 23, 0.0],\n",
    " [1992, 24, 1.0],\n",
    " [1993, 25, 1.0],\n",
    " [1994, 25, 0.0],\n",
    " [1995, 25, 0.0],\n",
    " [1996, 25, 0.0],\n",
    " [1997, 25, 0.0],\n",
    " [1998, 24, -1.0],\n",
    " [1999, 25, 1.0],\n",
    " [2000, 24, -1.0],\n",
    " [2001, 24, 0.0],\n",
    " [2002, 24, 0.0],\n",
    " [2004, 24, 0.0],\n",
    " [2006, 24, 0.0]]\n",
    "```\n",
    "\n",
    "\n",
    "\n"
   ]
  },
  {
   "cell_type": "code",
   "execution_count": 95,
   "metadata": {
    "id": "lMlKfEWUH3S9"
   },
   "outputs": [
    {
     "name": "stderr",
     "output_type": "stream",
     "text": [
      "<ipython-input-95-aca8ad7cfaec>:7: SettingWithCopyWarning: \n",
      "A value is trying to be set on a copy of a slice from a DataFrame.\n",
      "Try using .loc[row_indexer,col_indexer] = value instead\n",
      "\n",
      "See the caveats in the documentation: https://pandas.pydata.org/pandas-docs/stable/user_guide/indexing.html#returning-a-view-versus-a-copy\n",
      "  golf_cars_manual_regular_fuel['Combined MPG_dif'] = golf_cars_manual_regular_fuel['Combined MPG'].diff()\n"
     ]
    },
    {
     "data": {
      "text/plain": [
       "[[1986.0, 26.0, nan],\n",
       " [1987.0, 26.0, 0.0],\n",
       " [1988.0, 25.0, -1.0],\n",
       " [1989.0, 25.0, 0.0],\n",
       " [1999.0, 24.0, -1.0],\n",
       " [2000.0, 24.0, 0.0],\n",
       " [2001.0, 24.0, 0.0],\n",
       " [2002.0, 24.0, 0.0],\n",
       " [2003.0, 24.0, 0.0],\n",
       " [2004.0, 24.0, 0.0],\n",
       " [2005.0, 24.0, 0.0],\n",
       " [2006.0, 24.0, 0.0],\n",
       " [2010.0, 25.0, 1.0],\n",
       " [2011.0, 26.0, 1.0],\n",
       " [2012.0, 26.0, 0.0],\n",
       " [2013.0, 26.0, 0.0],\n",
       " [2015.0, 30.0, 4.0],\n",
       " [2016.0, 30.0, 0.0],\n",
       " [2017.0, 29.0, -1.0]]"
      ]
     },
     "execution_count": 95,
     "metadata": {},
     "output_type": "execute_result"
    }
   ],
   "source": [
    "########## Q5\n",
    "#Your code here\n",
    "volks_cars = df[df['Make'] == 'Volkswagen']\n",
    "golf_cars = volks_cars[volks_cars['Model'] == 'Golf'] \n",
    "golf_cars_manual = golf_cars[golf_cars['Transmission'] == 'Manual 5-spd']\n",
    "golf_cars_manual_regular_fuel = golf_cars_manual[golf_cars_manual['Fuel Type'] == 'Regular']\n",
    "golf_cars_manual_regular_fuel['Combined MPG_dif'] = golf_cars_manual_regular_fuel['Combined MPG'].diff()\n",
    "result = golf_cars_manual_regular_fuel[['Year','Combined MPG','Combined MPG_dif']]\n",
    "result.values.tolist()\n",
    "\n",
    "\n"
   ]
  },
  {
   "cell_type": "markdown",
   "metadata": {
    "id": "EnHdqUs-nagE"
   },
   "source": [
    "##Q6. What are the top 5 lowest CO2 Emission Grams/Mile emmisions of cars for each of the following brands: Toyota, Ford, Volkswagen, Nissan, Honda\n",
    "\n",
    "#####Format: A 5X6 list with the first element of each row being the Make of the cars and the following five values being floats sorted in ascending order. The Makes should appear in order listed in the question starting with Toyota and ending with Honda (see example).\n",
    "\n",
    "#####Example answer:\n",
    "\n",
    "```\n",
    "[['Toyota', 100.0, 140.0, 140.0, 150.0, 150.0],\n",
    " ['Ford',\n",
    "  100.025641025641,\n",
    "  200.677633075759575,\n",
    "  200.677633075759575,\n",
    "  200.677633075759575,\n",
    "  200.677633075759575],\n",
    " ['Volkswagen', 139.0, 154.0, 166.5, 166.5, 166.5],\n",
    " ['Nissan', 122.0, 122.0, 122.0, 122.0, 160.0],\n",
    " ['Honda', 100.0, 100.0, 100.0, 100.0, 123.91684618442447]]\n",
    "```\n",
    "\n",
    "\n",
    "\n",
    "\n"
   ]
  },
  {
   "cell_type": "code",
   "execution_count": 135,
   "metadata": {
    "id": "8KKg3bT6na41"
   },
   "outputs": [
    {
     "data": {
      "text/plain": [
       "[['Toyota', 133.0],\n",
       " ['Toyota', 133.0],\n",
       " ['Toyota', 133.0],\n",
       " ['Toyota', 133.0],\n",
       " ['Toyota', 158.0],\n",
       " ['Ford', 112.0],\n",
       " ['Ford', 129.0],\n",
       " ['Ford', 129.0],\n",
       " ['Ford', 129.0],\n",
       " ['Ford', 129.0],\n",
       " ['Volkswagen', 200.0],\n",
       " ['Volkswagen', 200.0],\n",
       " ['Volkswagen', 200.0],\n",
       " ['Volkswagen', 200.0],\n",
       " ['Volkswagen', 261.025641025641],\n",
       " ['Nissan', 249.0],\n",
       " ['Nissan', 254.0],\n",
       " ['Nissan', 254.5],\n",
       " ['Nissan', 254.5],\n",
       " ['Nissan', 254.5],\n",
       " ['Honda', 130.0],\n",
       " ['Honda', 167.67924528301887],\n",
       " ['Honda', 167.67924528301887],\n",
       " ['Honda', 167.67924528301887],\n",
       " ['Honda', 167.67924528301887]]"
      ]
     },
     "execution_count": 135,
     "metadata": {},
     "output_type": "execute_result"
    }
   ],
   "source": [
    "########## Q6\n",
    "#Your code here\n",
    "toyota_CO2 = df[df['Make'] == 'Toyota'][['Make','CO2 Emission Grams/Mile']].sort_values(by='CO2 Emission Grams/Mile').head()\n",
    "toyota_CO2\n",
    "ford_CO2 = df[df['Make'] == 'Ford'][['Make','CO2 Emission Grams/Mile']].sort_values(by='CO2 Emission Grams/Mile').head()\n",
    "volkswagen_CO2 = df[df['Make'] == 'Volkswagen'][['Make','CO2 Emission Grams/Mile']].sort_values(by='CO2 Emission Grams/Mile').head()\n",
    "nissan_CO2 = df[df['Make'] == 'Nissan'][['Make','CO2 Emission Grams/Mile']].sort_values(by='CO2 Emission Grams/Mile').head()\n",
    "honda_CO2 = df[df['Make'] == 'Honda'][['Make','CO2 Emission Grams/Mile']].sort_values(by='CO2 Emission Grams/Mile').head()\n",
    "combined_CO2 = pd.concat([toyota_CO2,ford_CO2,volkswagen_CO2,nissan_CO2,honda_CO2],axis=0)\n",
    "combined_CO2.values.tolist()\n",
    "\n",
    "    \n",
    "\n",
    "\n",
    "\n",
    "\n"
   ]
  },
  {
   "cell_type": "markdown",
   "metadata": {
    "id": "gDNo1Fcesgk5"
   },
   "source": [
    "##Q7. Form 7 groups of 5 years to calculated the median Combined MPG of each group. The first group is from 1984 to 1988, the second from 1989 to 1993 and so on. The last group will have years not appearing in the dataset.\n",
    "\n",
    "#####Note: The groups ranges are inclusive on both sides, the first group starts with 1984 and cars from 1984 are included in it.\n",
    "#####Format : A 7X2 list with the first element of each row being a tuple of two integers being the lower and uppper range of the year groups and the esecond element being the median Combined MPG of that group, a float number.\n",
    "\n",
    "#####Example answer:\n",
    "\n",
    "\n",
    "```\n",
    "[[(1984, 1988), 11.0],\n",
    " [(1989, 1993), 10.0],\n",
    " [(1994, 1998), 10.0],\n",
    " [(1999, 2003), 14.0],\n",
    " [(2004, 2008), 13.0],\n",
    " [(2009, 2013), 14.0],\n",
    " [(2014, 2018), 15.0]]\n",
    "```\n",
    "\n"
   ]
  },
  {
   "cell_type": "code",
   "execution_count": 157,
   "metadata": {
    "id": "1cMEyFXVxBU3"
   },
   "outputs": [
    {
     "data": {
      "text/plain": [
       "Year\n",
       "1984    17\n",
       "1985    19\n",
       "1986    19\n",
       "1987    19\n",
       "1988    19\n",
       "1989    19\n",
       "1990    18\n",
       "1991    18\n",
       "1992    18\n",
       "1993    18\n",
       "1994    18\n",
       "1995    18\n",
       "1996    19\n",
       "1997    19\n",
       "1998    19\n",
       "1999    19\n",
       "2000    19\n",
       "2001    19\n",
       "2002    19\n",
       "2003    19\n",
       "2004    19\n",
       "2005    19\n",
       "2006    19\n",
       "2007    19\n",
       "2008    19\n",
       "2009    20\n",
       "2010    20\n",
       "2011    21\n",
       "2012    21\n",
       "2013    22\n",
       "2014    22\n",
       "2015    22\n",
       "2016    23\n",
       "2017    23\n",
       "Name: Combined MPG, dtype: int64"
      ]
     },
     "execution_count": 157,
     "metadata": {},
     "output_type": "execute_result"
    }
   ],
   "source": [
    "########## Q7\n",
    "#Your code here\n",
    "grouped = df.groupby([\"Year\"])[\"Combined MPG\"].median()\n",
    "grouped\n"
   ]
  },
  {
   "cell_type": "markdown",
   "metadata": {
    "id": "LiGydnlQ4cX4"
   },
   "source": [
    "##Test your answers\n",
    "\n",
    "##### We provide you some tests to make sure your answer dictionary is in the correct format using unittest.\n",
    "##### These tests are not meant to be comprehensive, you should review all your answers carefully."
   ]
  },
  {
   "cell_type": "code",
   "execution_count": null,
   "metadata": {
    "id": "iNwVFmHZ4csn"
   },
   "outputs": [],
   "source": [
    "import unittest\n",
    "\n",
    "class TestAnswers(unittest.TestCase):\n",
    "    def test_if_dict(self):\n",
    "        self.assertIsInstance(answer_dict, dict)\n",
    "\n",
    "    def test_keys(self):\n",
    "        self.assertEqual(list(answer_dict.keys()), ['Q1', 'Q2', 'Q3', 'Q4', 'Q5', 'Q6', 'Q7'])\n",
    "\n",
    "    def test_answers_types(self):\n",
    "        types_values = [type(k) for k in answer_dict.values()]\n",
    "        answer_types = [float, list, list, list, list, list, list]\n",
    "        self.assertEqual(types_values, answer_types)\n",
    "\n",
    "    def test_Q1(self):\n",
    "        self.assertEqual(type(answer_dict['Q1']), float)\n",
    "\n",
    "    def test_Q2_dim(self):\n",
    "        self.assertEqual(np.array(answer_dict['Q2']).shape, (5,2))\n",
    "\n",
    "    def test_Q2_types(self):\n",
    "        dtype1 = type(answer_dict['Q2'][0][0])\n",
    "        dtype2 = type(answer_dict['Q2'][0][1])\n",
    "        self.assertEqual([dtype1, dtype2], [str, int])\n",
    "\n",
    "    def test_Q3_types(self):\n",
    "        q3_types = set([type(item) for item in answer_dict['Q3']])\n",
    "        self.assertEqual(q3_types, {str})\n",
    "\n",
    "    def test_Q4_dim(self):\n",
    "        self.assertEqual(np.array(answer_dict['Q4']).shape, (9,3))\n",
    "\n",
    "    def test_Q4_types(self):\n",
    "        dtype1 = type(answer_dict['Q4'][0][0])\n",
    "        dtype2 = type(answer_dict['Q4'][0][1])\n",
    "        dtype3 = type(answer_dict['Q4'][0][2])\n",
    "        self.assertEqual([dtype1, dtype2, dtype3], [str, int, float])\n",
    "\n",
    "    def test_Q5_dim(self):\n",
    "        self.assertEqual(np.array(answer_dict['Q5']).shape, (19,3))\n",
    "\n",
    "    def test_Q5_types(self):\n",
    "        dtype1 = type(answer_dict['Q5'][0][0])\n",
    "        dtype2 = type(answer_dict['Q5'][0][1])\n",
    "        dtype3 = type(answer_dict['Q5'][0][2])\n",
    "        self.assertEqual([dtype1, dtype2, dtype3], [int, int, float])\n",
    "\n",
    "    def test_Q5_first_zero(self):\n",
    "        self.assertEqual(answer_dict['Q5'][0][2], 0)\n",
    "\n",
    "\n",
    "    def test_Q6_dim(self):\n",
    "        self.assertEqual(np.array(answer_dict['Q6']).shape, (5,6))\n",
    "\n",
    "    def test_Q5_types(self):\n",
    "        dtype1 = type(answer_dict['Q6'][0][0])\n",
    "        dtype2 = type(answer_dict['Q6'][0][1])\n",
    "        dtype3 = type(answer_dict['Q6'][0][2])\n",
    "        dtype4 = type(answer_dict['Q6'][0][3])\n",
    "        dtype5 = type(answer_dict['Q6'][0][4])\n",
    "        dtype6 = type(answer_dict['Q6'][0][5])\n",
    "        self.assertEqual([dtype1, dtype2, dtype3, dtype4, dtype5, dtype6], [str, float, float, float, float, float])\n",
    "\n",
    "    def test_Q6_check_first_and_last_brand(self):\n",
    "        first_brand = answer_dict['Q6'][0][0]\n",
    "        last_brand = answer_dict['Q6'][4][0]\n",
    "\n",
    "        self.assertEqual([first_brand, last_brand], [\"Toyota\", \"Honda\"])\n",
    "\n",
    "    def test_Q7_dim(self):\n",
    "        self.assertEqual(np.array(answer_dict['Q7'], dtype=object).shape, (7,2))\n",
    "\n",
    "    def test_Q7_types(self):\n",
    "        dtype1 = type(answer_dict['Q7'][0][0])\n",
    "        dtype2 = type(answer_dict['Q7'][0][1])\n",
    "        self.assertEqual([dtype1, dtype2], [tuple, float])\n",
    "\n",
    "unittest.main(argv=[''], verbosity=2, exit=False)"
   ]
  },
  {
   "cell_type": "markdown",
   "metadata": {
    "id": "O_Wx_D0kGjmc"
   },
   "source": [
    "##Save your answers\n",
    "\n",
    "\n",
    "##### First, take a moment to evaluate your answers and make sure you have not missed anything\n",
    "\n",
    "##### Use the following code to save your answers in pickle format, change the filename using the following format:\n",
    "##### FIRSTNAME_LASTNAME_answers.pkl\n",
    "##### Example: Juan_Perez_answers.pkl\n",
    "\n",
    "##### If you are using google colab you can find your file on the left side bar by clicking the folder icon inside the sample_data folder. Remember to upload the pickle file and the notebook to github and submit their URLs to the [google form](https://forms.gle/jqufStbvLd99bF539)."
   ]
  },
  {
   "cell_type": "code",
   "execution_count": null,
   "metadata": {
    "id": "nCzU1sKMknfH"
   },
   "outputs": [],
   "source": [
    "answer_dict"
   ]
  },
  {
   "cell_type": "code",
   "execution_count": null,
   "metadata": {
    "id": "dEZ-vo0QGTeu"
   },
   "outputs": [],
   "source": [
    "import pickle\n",
    "\n",
    "file_name = \"FELIX_OLONDE_answers.pkl\"\n",
    "path = \"\"\n",
    "\n",
    "with open(path+file_name, 'wb') as f:\n",
    "    pickle.dump(answer_dict, f, protocol=pickle.HIGHEST_PROTOCOL)"
   ]
  }
 ],
 "metadata": {
  "colab": {
   "provenance": []
  },
  "kernelspec": {
   "display_name": "Python 3",
   "language": "python",
   "name": "python3"
  },
  "language_info": {
   "codemirror_mode": {
    "name": "ipython",
    "version": 3
   },
   "file_extension": ".py",
   "mimetype": "text/x-python",
   "name": "python",
   "nbconvert_exporter": "python",
   "pygments_lexer": "ipython3",
   "version": "3.8.8"
  }
 },
 "nbformat": 4,
 "nbformat_minor": 1
}
